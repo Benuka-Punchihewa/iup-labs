{
 "cells": [
  {
   "cell_type": "code",
   "execution_count": 4,
   "metadata": {},
   "outputs": [],
   "source": [
    "import cv2\n",
    "import numpy as np\n"
   ]
  },
  {
   "cell_type": "code",
   "execution_count": null,
   "metadata": {},
   "outputs": [],
   "source": [
    "# Read the image from storage\n",
    "image_path = \"assets/test.jpg\" \n",
    "image = cv2.imread(image_path)\n",
    "\n",
    "if image is None:\n",
    "    print(\"Error: Unable to read the image.\")\n",
    "else:\n",
    "    print(\"Image read successfully.\")\n",
    "\n",
    "    # Save the image to storage\n",
    "    output_path = \"output/test.jpg\" \n",
    "    cv2.imwrite(output_path, image)\n",
    "\n",
    "    print(\"Image saved successfully at:\", output_path)"
   ]
  },
  {
   "cell_type": "code",
   "execution_count": 2,
   "metadata": {},
   "outputs": [
    {
     "name": "stdout",
     "output_type": "stream",
     "text": [
      "Image read successfully.\n"
     ]
    }
   ],
   "source": [
    "# Read the image\n",
    "image_path = \"assets/test.jpg\" \n",
    "image = cv2.imread(image_path)\n",
    "\n",
    "if image is None:\n",
    "    print(\"Error: Unable to read the image.\")\n",
    "else:\n",
    "    print(\"Image read successfully.\")\n",
    "\n",
    "    # Access pixel values and modify them\n",
    "    # Let's change the pixel values of a square region to white (255, 255, 255)\n",
    "    x1, y1 = 100, 100  # Top-left corner of the square\n",
    "    x2, y2 = 200, 200  # Bottom-right corner of the square\n",
    "\n",
    "    for y in range(y1, y2):\n",
    "        for x in range(x1, x2):\n",
    "            image[y, x] = (255, 255, 255)  # Set pixel values to white\n",
    "\n",
    "    # View the modified image\n",
    "    cv2.imshow(\"Modified Image\", image)\n",
    "    cv2.waitKey(0)\n",
    "    cv2.destroyAllWindows()"
   ]
  },
  {
   "cell_type": "code",
   "execution_count": 3,
   "metadata": {},
   "outputs": [
    {
     "name": "stdout",
     "output_type": "stream",
     "text": [
      "Image read successfully.\n",
      "Image dimensions (height, width): 800 x 1200\n",
      "Number of channels: 3\n",
      "Data type: uint8\n"
     ]
    }
   ],
   "source": [
    "\n",
    "# Read the image\n",
    "image_path = \"assets/test.jpg\" \n",
    "image = cv2.imread(image_path)\n",
    "\n",
    "if image is None:\n",
    "    print(\"Error: Unable to read the image.\")\n",
    "else:\n",
    "    print(\"Image read successfully.\")\n",
    "\n",
    "    # Get image properties\n",
    "    height, width, channels = image.shape\n",
    "    image_type = image.dtype\n",
    "\n",
    "    # Print image properties\n",
    "    print(\"Image dimensions (height, width):\", height, \"x\", width)\n",
    "    print(\"Number of channels:\", channels)\n",
    "    print(\"Data type:\", image_type)"
   ]
  },
  {
   "cell_type": "code",
   "execution_count": 3,
   "metadata": {},
   "outputs": [
    {
     "name": "stdout",
     "output_type": "stream",
     "text": [
      "Image read successfully.\n"
     ]
    }
   ],
   "source": [
    "import cv2\n",
    "\n",
    "# Read the image\n",
    "image_path = \"assets/test.jpg\"\n",
    "image = cv2.imread(image_path)\n",
    "\n",
    "if image is None:\n",
    "    print(\"Error: Unable to read the image.\")\n",
    "else:\n",
    "    print(\"Image read successfully.\")\n",
    "\n",
    "    # Split the image into its color channels\n",
    "    blue_channel, green_channel, red_channel = cv2.split(image)\n",
    "\n",
    "    # Merge the color channels back together but swap channels\n",
    "    merged_image = cv2.merge((green_channel, red_channel, blue_channel))\n",
    "\n",
    "    # Display the original and merged images\n",
    "    cv2.imshow(\"Original Image\", image)\n",
    "    cv2.imshow(\"Merged Image\", merged_image)\n",
    "    cv2.waitKey(0)\n",
    "    cv2.destroyAllWindows()"
   ]
  },
  {
   "cell_type": "code",
   "execution_count": 5,
   "metadata": {},
   "outputs": [
    {
     "name": "stdout",
     "output_type": "stream",
     "text": [
      "Image read successfully.\n"
     ]
    }
   ],
   "source": [
    "# Read the image\n",
    "image_path = \"assets/test.jpg\" \n",
    "image = cv2.imread(image_path)\n",
    "\n",
    "if image is None:\n",
    "    print(\"Error: Unable to read the image.\")\n",
    "else:\n",
    "    print(\"Image read successfully.\")\n",
    "\n",
    "    # Resize the image\n",
    "    new_width = 300\n",
    "    new_height = 200\n",
    "    resized_image = cv2.resize(image, (new_width, new_height))\n",
    "\n",
    "    # Rotate the image\n",
    "    angle = 45\n",
    "    rotation_matrix = cv2.getRotationMatrix2D((image.shape[1] / 2, image.shape[0] / 2), angle, 1)\n",
    "    rotated_image = cv2.warpAffine(image, rotation_matrix, (image.shape[1], image.shape[0]))\n",
    "\n",
    "    # Display the original, resized, and rotated images\n",
    "    cv2.imshow(\"Original Image\", image)\n",
    "    cv2.imshow(\"Resized Image\", resized_image)\n",
    "    cv2.imshow(\"Rotated Image\", rotated_image)\n",
    "    cv2.waitKey(0)\n",
    "    cv2.destroyAllWindows()"
   ]
  },
  {
   "cell_type": "code",
   "execution_count": 6,
   "metadata": {},
   "outputs": [],
   "source": [
    "# Create a black image\n",
    "image = np.zeros((400, 400, 3), dtype=np.uint8)\n",
    "\n",
    "# Draw a circle\n",
    "center_coordinates = (200, 200)\n",
    "radius = 100\n",
    "color = (0, 255, 0)  # Green color in BGR\n",
    "thickness = 2\n",
    "cv2.circle(image, center_coordinates, radius, color, thickness)\n",
    "\n",
    "# Draw a rectangle\n",
    "top_left = (50, 50)\n",
    "bottom_right = (150, 150)\n",
    "color = (0, 0, 255)  # Red color in BGR\n",
    "thickness = 2\n",
    "cv2.rectangle(image, top_left, bottom_right, color, thickness)\n",
    "\n",
    "# Draw a line\n",
    "start_point = (250, 50)\n",
    "end_point = (350, 150)\n",
    "color = (255, 0, 0)  # Blue color in BGR\n",
    "thickness = 2\n",
    "cv2.line(image, start_point, end_point, color, thickness)\n",
    "\n",
    "# Display the image\n",
    "cv2.imshow(\"Drawing\", image)\n",
    "cv2.waitKey(0)\n",
    "cv2.destroyAllWindows()"
   ]
  },
  {
   "cell_type": "code",
   "execution_count": 7,
   "metadata": {},
   "outputs": [
    {
     "name": "stdout",
     "output_type": "stream",
     "text": [
      "Image read successfully.\n"
     ]
    }
   ],
   "source": [
    "# Read the image\n",
    "image_path = \"assets/test.jpg\" \n",
    "image = cv2.imread(image_path)\n",
    "\n",
    "if image is None:\n",
    "    print(\"Error: Unable to read the image.\")\n",
    "else:\n",
    "    print(\"Image read successfully.\")\n",
    "\n",
    "# Define text parameters\n",
    "text = \"Hello, OpenCV!\"\n",
    "font = cv2.FONT_HERSHEY_SIMPLEX\n",
    "font_scale = 1\n",
    "color = (255, 255, 255)  # White color in BGR\n",
    "thickness = 2\n",
    "line_type = cv2.LINE_AA\n",
    "\n",
    "# Get text size\n",
    "text_size, _ = cv2.getTextSize(text, font, font_scale, thickness)\n",
    "\n",
    "# Calculate text position\n",
    "text_x = int((image.shape[1] - text_size[0]) / 2)\n",
    "text_y = int((image.shape[0] + text_size[1]) / 2)\n",
    "\n",
    "# Write text on the image\n",
    "cv2.putText(image, text, (text_x, text_y), font, font_scale, color, thickness, line_type)\n",
    "\n",
    "# Display the image\n",
    "cv2.imshow(\"Text on Image\", image)\n",
    "cv2.waitKey(0)\n",
    "cv2.destroyAllWindows()"
   ]
  },
  {
   "cell_type": "code",
   "execution_count": 8,
   "metadata": {},
   "outputs": [],
   "source": [
    "# Read the color image\n",
    "image_path = \"assets/test.jpg\" \n",
    "color_image = cv2.imread(image_path)\n",
    "\n",
    "# Convert to grayscale\n",
    "gray_image = cv2.cvtColor(color_image, cv2.COLOR_BGR2GRAY)\n",
    "\n",
    "# Display the grayscale image\n",
    "cv2.imshow(\"Grayscale Image\", gray_image)\n",
    "cv2.waitKey(0)\n",
    "cv2.destroyAllWindows()"
   ]
  },
  {
   "cell_type": "code",
   "execution_count": 9,
   "metadata": {},
   "outputs": [],
   "source": [
    "# Convert to binary\n",
    "_, binary_image = cv2.threshold(gray_image, 127, 255, cv2.THRESH_BINARY)\n",
    "\n",
    "# Display the binary image\n",
    "cv2.imshow(\"Binary Image\", binary_image)\n",
    "cv2.waitKey(0)\n",
    "cv2.destroyAllWindows()"
   ]
  },
  {
   "cell_type": "code",
   "execution_count": 10,
   "metadata": {},
   "outputs": [],
   "source": [
    "# Create a negative image\n",
    "negative_image = 255 - gray_image\n",
    "\n",
    "# Display the negative image\n",
    "cv2.imshow(\"Negative Image\", negative_image)\n",
    "cv2.waitKey(0)\n",
    "cv2.destroyAllWindows()"
   ]
  }
 ],
 "metadata": {
  "kernelspec": {
   "display_name": "venv",
   "language": "python",
   "name": "python3"
  },
  "language_info": {
   "codemirror_mode": {
    "name": "ipython",
    "version": 3
   },
   "file_extension": ".py",
   "mimetype": "text/x-python",
   "name": "python",
   "nbconvert_exporter": "python",
   "pygments_lexer": "ipython3",
   "version": "3.10.12"
  }
 },
 "nbformat": 4,
 "nbformat_minor": 2
}
